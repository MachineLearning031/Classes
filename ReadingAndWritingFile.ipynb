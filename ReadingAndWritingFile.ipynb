{
 "cells": [
  {
   "cell_type": "code",
   "execution_count": 2,
   "metadata": {},
   "outputs": [
    {
     "name": "stdout",
     "output_type": "stream",
     "text": [
      "3 , 4 ,5\n",
      "6 ,7 ,8 \n",
      "Daman\n",
      "Hyy\n",
      "Python\n",
      "<class 'str'>\n"
     ]
    }
   ],
   "source": [
    "#To read from a file\n",
    "with open('pi_digit.txt') as f:\n",
    "    contents = f.read()\n",
    "    print(contents)\n",
    "    print(type(contents))  \n",
    "    "
   ]
  },
  {
   "cell_type": "code",
   "execution_count": 3,
   "metadata": {},
   "outputs": [
    {
     "name": "stdout",
     "output_type": "stream",
     "text": [
      "Line Number :  1\n",
      "3 , 4 ,5\n",
      "\n",
      "Line Number :  2\n",
      "6 ,7 ,8 \n",
      "\n",
      "Line Number :  3\n",
      "Daman\n",
      "\n",
      "Line Number :  4\n",
      "Hyy\n",
      "\n",
      "Line Number :  5\n",
      "Python\n"
     ]
    }
   ],
   "source": [
    "#To read line by line\n",
    "filename = 'pi_digit.txt'\n",
    "lineNum = 0\n",
    "with open(filename) as file_object:\n",
    "    for line in file_object:\n",
    "        lineNum +=1   # lineNum = LineNum+1\n",
    "        print(\"Line Number : \" ,lineNum)\n",
    "        print(line)"
   ]
  },
  {
   "cell_type": "code",
   "execution_count": 6,
   "metadata": {},
   "outputs": [
    {
     "name": "stdout",
     "output_type": "stream",
     "text": [
      "3 , 4 ,56 ,7 ,8DamanHyyPython"
     ]
    }
   ],
   "source": [
    "#To read line by line without spaces\n",
    "filename = 'pi_digit.txt'\n",
    "with open(filename) as file_object:\n",
    "    for line in file_object:\n",
    "        print(line.strip() , end =\"\")\n",
    "        "
   ]
  },
  {
   "cell_type": "markdown",
   "metadata": {},
   "source": [
    "Question: If I want to print whole output in same line, What change should be made over here?\n",
    "3.144.655.21Daman"
   ]
  },
  {
   "cell_type": "markdown",
   "metadata": {},
   "source": [
    "When you use with, the file object returned by open() is only available inside\n",
    "the with block that contains it. If you want to retain access to a file’s contents\n",
    "outside the with block, you can store the file’s lines in a list inside the block\n",
    "and then work with that list."
   ]
  },
  {
   "cell_type": "code",
   "execution_count": null,
   "metadata": {},
   "outputs": [],
   "source": [
    "#Making a List of Lines from a File\n",
    "filename = 'pi_digit.txt'\n",
    "with open(filename) as file_object:\n",
    "    lines = file_object.readlines()\n",
    "    for line in lines:\n",
    "        print(line.strip())"
   ]
  },
  {
   "cell_type": "code",
   "execution_count": null,
   "metadata": {},
   "outputs": [],
   "source": [
    "#Working with a File’s Contents\n",
    "# we’ll attempt to build a single string containing all the digits in the file \n",
    "#with no whitespace in it:\n",
    "\n",
    "filename = 'D:\\Coding\\pi_digits.txt'\n",
    "with open(filename) as file_object:\n",
    "    lines = file_object.readlines()\n",
    "    pi_string = ''\n",
    "    for line in lines:\n",
    "        pi_string += line.strip()\n",
    "\n",
    "print(pi_string)\n",
    "print(len(pi_string))"
   ]
  },
  {
   "cell_type": "markdown",
   "metadata": {},
   "source": [
    "When Python reads from a text file, it interprets all text in the file as a string. If you\n",
    "read in a number and want to work with that value in a numerical context, you’ll\n",
    "have to convert it to an integer using the int() function or convert it to a float using\n",
    "the float() function."
   ]
  },
  {
   "cell_type": "code",
   "execution_count": null,
   "metadata": {},
   "outputs": [],
   "source": []
  },
  {
   "cell_type": "markdown",
   "metadata": {},
   "source": [
    "Writing To A File"
   ]
  },
  {
   "cell_type": "code",
   "execution_count": null,
   "metadata": {},
   "outputs": [],
   "source": [
    "#Writing To an Empty File\n",
    "filename = 'programming.txt'\n",
    "with open(filename, 'w') as file_object:\n",
    "    file_object.write(\"I love programming.\")"
   ]
  },
  {
   "cell_type": "markdown",
   "metadata": {},
   "source": [
    "You can open a file \n",
    "in read mode ('r'), write mode ('w'), append mode ('a'), or a mode that allows\n",
    "you to read and write to the file ('r+'). If you omit the mode argument,\n",
    "Python opens the file in read-only mode by default.\n",
    "The open() function automatically creates the file you’re writing to if it\n",
    "doesn’t already exist. However, be careful opening a file in write mode ('w')\n",
    "because if the file does exist, Python will erase the file before returning the\n",
    "file object"
   ]
  },
  {
   "cell_type": "markdown",
   "metadata": {},
   "source": [
    "Python can only write strings to a text file. If you want to store numerical data in a\n",
    "text file, you’ll have to convert the data to string format first using the str() function."
   ]
  },
  {
   "cell_type": "code",
   "execution_count": null,
   "metadata": {},
   "outputs": [],
   "source": [
    "#Writing Multiple Line\n",
    "filename = 'programming.txt'\n",
    "with open(filename, 'w') as file_object:\n",
    " file_object.write(\"I love to ride bike.\\n\")\n",
    " file_object.write(\"I love creating new games.\")"
   ]
  },
  {
   "cell_type": "code",
   "execution_count": null,
   "metadata": {},
   "outputs": [],
   "source": [
    "#Appending To File\n",
    "filename = 'programming.txt'\n",
    "\n",
    "with open(filename, 'a') as file_object:\n",
    "    file_object.write(\"I also love finding meaning in large datasets.\\n\")\n",
    "    file_object.write(\"I love creating apps that can run in a browser.\\n\")"
   ]
  },
  {
   "cell_type": "code",
   "execution_count": null,
   "metadata": {},
   "outputs": [],
   "source": []
  },
  {
   "cell_type": "code",
   "execution_count": null,
   "metadata": {},
   "outputs": [],
   "source": []
  }
 ],
 "metadata": {
  "kernelspec": {
   "display_name": "Python 3",
   "language": "python",
   "name": "python3"
  },
  "language_info": {
   "codemirror_mode": {
    "name": "ipython",
    "version": 3
   },
   "file_extension": ".py",
   "mimetype": "text/x-python",
   "name": "python",
   "nbconvert_exporter": "python",
   "pygments_lexer": "ipython3",
   "version": "3.8.5"
  }
 },
 "nbformat": 4,
 "nbformat_minor": 2
}
